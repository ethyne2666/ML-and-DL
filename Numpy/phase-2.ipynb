{
 "cells": [
  {
   "cell_type": "markdown",
   "id": "6b1b687a",
   "metadata": {},
   "source": [
    "### Numpy Operations"
   ]
  },
  {
   "cell_type": "markdown",
   "id": "68d27123",
   "metadata": {},
   "source": []
  },
  {
   "cell_type": "code",
   "execution_count": 2,
   "id": "8eb3dab4",
   "metadata": {},
   "outputs": [
    {
     "name": "stdout",
     "output_type": "stream",
     "text": [
      "Basic Slicing [3 4 5 6 7]\n",
      "Slicing with step [2 4 6 8]\n",
      "Negative indexing 8\n"
     ]
    }
   ],
   "source": [
    "import numpy as np\n",
    "\n",
    "arr = np.array([1,2,3,4,5,6,7,8,9,10])\n",
    "print(\"Basic Slicing\", arr[2:7])\n",
    "print(\"Slicing with step\", arr[1:8:2])\n",
    "print(\"Negative indexing\", arr[-3])"
   ]
  },
  {
   "cell_type": "code",
   "execution_count": 6,
   "id": "3f68defb",
   "metadata": {},
   "outputs": [
    {
     "name": "stdout",
     "output_type": "stream",
     "text": [
      "2D Array: 6\n",
      "First Row: [1 2 3]\n",
      "Second Column: [2 5 8]\n",
      "2D Array Slicing:\n",
      " [[2 3]\n",
      " [5 6]]\n",
      "Slicing with step in 2D Array:\n",
      " [[1 3]\n",
      " [7 9]]\n",
      "Negative indexing in 2D Array:\n",
      " 8\n"
     ]
    }
   ],
   "source": [
    "arr = np.array([[1,2,3],[4,5,6],[7,8,9]])\n",
    "print(\"2D Array:\", arr[1,2])                 # 0 based indexing  ans :6\n",
    "print(\"First Row:\", arr[0])                  # ans : [1 2 3]   \n",
    "print(\"Second Column:\", arr[:,1])          # ans : [2 5 8] \n",
    "print(\"2D Array Slicing:\\n\", arr[0:2, 1:3])\n",
    "print(\"Slicing with step in 2D Array:\\n\", arr[::2, ::2])    \n",
    "print(\"Negative indexing in 2D Array:\\n\", arr[-1, -2])"
   ]
  },
  {
   "cell_type": "markdown",
   "id": "afbdbe78",
   "metadata": {},
   "source": [
    "### Sorting"
   ]
  },
  {
   "cell_type": "code",
   "execution_count": 7,
   "id": "59536ed5",
   "metadata": {},
   "outputs": [
    {
     "name": "stdout",
     "output_type": "stream",
     "text": [
      "Unsorted Array: [3 1 4 1 5 9 2 6 5 3 5]\n",
      "Sorted Array: [1 1 2 3 3 4 5 5 5 6 9]\n"
     ]
    }
   ],
   "source": [
    "unsorted_arr = np.array([3, 1, 4, 1, 5, 9, 2, 6, 5, 3, 5])\n",
    "print(\"Unsorted Array:\", unsorted_arr) \n",
    "sorted_arr = np.sort(unsorted_arr)\n",
    "print(\"Sorted Array:\", sorted_arr)"
   ]
  },
  {
   "cell_type": "markdown",
   "id": "835be18e",
   "metadata": {},
   "source": [
    "## Sorting in 2-D array"
   ]
  },
  {
   "cell_type": "code",
   "execution_count": 12,
   "id": "e4822dae",
   "metadata": {},
   "outputs": [
    {
     "name": "stdout",
     "output_type": "stream",
     "text": [
      "Unsorted 2D Array:\n",
      " [[3 1]\n",
      " [1 2]\n",
      " [2 3]]\n",
      "Sorted 2D Array by columns:\n",
      " [[1 1]\n",
      " [2 2]\n",
      " [3 3]]\n"
     ]
    }
   ],
   "source": [
    "arr_2d_unsorted = np.array([[3,1],[1,2],[2,3]])\n",
    "print(\"Unsorted 2D Array:\\n\", arr_2d_unsorted)\n",
    "sorted_2d_arr = np.sort(arr_2d_unsorted, axis=0)\n",
    "print(\"Sorted 2D Array by columns:\\n\", sorted_2d_arr)"
   ]
  },
  {
   "cell_type": "markdown",
   "id": "b0bdf31e",
   "metadata": {},
   "source": [
    "### Filter with Mask"
   ]
  },
  {
   "cell_type": "code",
   "execution_count": 13,
   "id": "c93f4c84",
   "metadata": {},
   "outputs": [
    {
     "name": "stdout",
     "output_type": "stream",
     "text": [
      "Numbers greater than 5: [6 7 8 9]\n"
     ]
    }
   ],
   "source": [
    "mask  = arr > 5\n",
    "print(\"Numbers greater than 5:\", arr[mask])"
   ]
  },
  {
   "cell_type": "markdown",
   "id": "89e887b4",
   "metadata": {},
   "source": [
    "### Fancy indexing vs np.where()"
   ]
  },
  {
   "cell_type": "code",
   "execution_count": 16,
   "id": "20d620e5",
   "metadata": {},
   "outputs": [
    {
     "name": "stdout",
     "output_type": "stream",
     "text": [
      "Fancy Indexing:  [3 4 5]\n",
      "Indices using np.where(): (array([5, 7]),)\n"
     ]
    }
   ],
   "source": [
    "indices = [0,2,4]\n",
    "print(\"Fancy Indexing: \", unsorted_arr[indices])  \n",
    "\n",
    "where_indices = np.where(unsorted_arr > 5)\n",
    "print(\"Indices using np.where():\", where_indices)"
   ]
  },
  {
   "cell_type": "code",
   "execution_count": null,
   "id": "cd9bd153",
   "metadata": {},
   "outputs": [],
   "source": []
  }
 ],
 "metadata": {
  "kernelspec": {
   "display_name": "venv",
   "language": "python",
   "name": "python3"
  },
  "language_info": {
   "codemirror_mode": {
    "name": "ipython",
    "version": 3
   },
   "file_extension": ".py",
   "mimetype": "text/x-python",
   "name": "python",
   "nbconvert_exporter": "python",
   "pygments_lexer": "ipython3",
   "version": "3.13.1"
  }
 },
 "nbformat": 4,
 "nbformat_minor": 5
}
