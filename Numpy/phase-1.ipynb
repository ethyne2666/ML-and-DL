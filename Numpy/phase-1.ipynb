{
 "cells": [
  {
   "cell_type": "markdown",
   "id": "5bf8ca40",
   "metadata": {},
   "source": [
    "## Numpy array and basics \n",
    "learning with chai aur code"
   ]
  },
  {
   "cell_type": "code",
   "execution_count": 1,
   "id": "87c863df",
   "metadata": {},
   "outputs": [],
   "source": [
    "import numpy as np"
   ]
  },
  {
   "cell_type": "code",
   "execution_count": 10,
   "id": "3f504708",
   "metadata": {},
   "outputs": [
    {
     "name": "stdout",
     "output_type": "stream",
     "text": [
      "1D array:  [1 2 3 4 5 6]\n",
      "2D array: \n",
      " [[1 2 3]\n",
      " [4 5 6]]\n"
     ]
    }
   ],
   "source": [
    "arr_1D = np.array([1,2,3,4,5,6])\n",
    "print(\"1D array: \", arr_1D)\n",
    "\n",
    "arr_2D = np.array([[1,2,3],[4,5,6]])\n",
    "print(\"2D array: \\n\", arr_2D)\n"
   ]
  },
  {
   "cell_type": "code",
   "execution_count": 11,
   "id": "fcbd7752",
   "metadata": {},
   "outputs": [
    {
     "name": "stdout",
     "output_type": "stream",
     "text": [
      "Python List:  [1, 2, 3, 1, 2, 3]\n",
      "Python numpy array multiplication:  [2 4 6]\n"
     ]
    }
   ],
   "source": [
    "py_list = [1,2,3]\n",
    "print(\"Python List: \", py_list*2)\n",
    "\n",
    "np_array = np.array([1,2,3])\n",
    "print(\"Python numpy array multiplication: \", np_array * 2)"
   ]
  },
  {
   "cell_type": "code",
   "execution_count": 13,
   "id": "7c8d50a4",
   "metadata": {},
   "outputs": [
    {
     "name": "stdout",
     "output_type": "stream",
     "text": [
      " List operation time:  0.10035157203674316\n",
      "Numpy operation time:  0.008689641952514648\n"
     ]
    }
   ],
   "source": [
    "import time\n",
    "start = time.time()\n",
    "py_list = [i*2 for i in range(1000000)]\n",
    "print(\" List operation time: \", time.time() - start)\n",
    "\n",
    "start = time.time()\n",
    "np_array = np.arange(1000000) *2\n",
    "print(\"Numpy operation time: \", time.time() - start)\n"
   ]
  },
  {
   "cell_type": "code",
   "execution_count": 14,
   "id": "b6601abf",
   "metadata": {},
   "outputs": [
    {
     "name": "stdout",
     "output_type": "stream",
     "text": [
      "Array of Zeros: \n",
      " [[0. 0. 0. 0.]\n",
      " [0. 0. 0. 0.]\n",
      " [0. 0. 0. 0.]]\n"
     ]
    }
   ],
   "source": [
    "zeros = np.zeros((3,4))\n",
    "print(\"Array of Zeros: \\n\", zeros)"
   ]
  },
  {
   "cell_type": "code",
   "execution_count": 17,
   "id": "ce10db69",
   "metadata": {},
   "outputs": [
    {
     "name": "stdout",
     "output_type": "stream",
     "text": [
      "Array of Ones: \n",
      " [[1. 1. 1. 1.]\n",
      " [1. 1. 1. 1.]\n",
      " [1. 1. 1. 1.]]\n"
     ]
    }
   ],
   "source": [
    "ones = np.ones((3,4))\n",
    "print(\"Array of Ones: \\n\", ones)"
   ]
  },
  {
   "cell_type": "code",
   "execution_count": 18,
   "id": "8dcf9e01",
   "metadata": {},
   "outputs": [
    {
     "name": "stdout",
     "output_type": "stream",
     "text": [
      "Array of Full: \n",
      " [[5 5 5]\n",
      " [5 5 5]\n",
      " [5 5 5]]\n"
     ]
    }
   ],
   "source": [
    "full = np.full((3,3), 5)\n",
    "print(\"Array of Full: \\n\", full)"
   ]
  },
  {
   "cell_type": "code",
   "execution_count": 22,
   "id": "1c7577f0",
   "metadata": {},
   "outputs": [
    {
     "name": "stdout",
     "output_type": "stream",
     "text": [
      "Array of Random: \n",
      " [[7.79980620e-01 1.23770049e-01 8.01599422e-01]\n",
      " [7.39068491e-04 6.30812728e-01 8.51227823e-02]\n",
      " [3.15987304e-01 1.78890668e-01 7.37810610e-01]]\n"
     ]
    }
   ],
   "source": [
    "random = np.random.random((3,3))\n",
    "print(\"Array of Random: \\n\", random)"
   ]
  },
  {
   "cell_type": "code",
   "execution_count": 23,
   "id": "43bd4123",
   "metadata": {},
   "outputs": [
    {
     "name": "stdout",
     "output_type": "stream",
     "text": [
      "Array with sequence: \n",
      " [0 2 4 6 8]\n"
     ]
    }
   ],
   "source": [
    "sequence = np.arange(0,10,2)\n",
    "print(\"Array with sequence: \\n\", sequence)"
   ]
  },
  {
   "cell_type": "markdown",
   "id": "a09ced45",
   "metadata": {},
   "source": [
    "### Vector  , Matrix   , Tensor"
   ]
  },
  {
   "cell_type": "code",
   "execution_count": 24,
   "id": "9accaf9d",
   "metadata": {},
   "outputs": [
    {
     "name": "stdout",
     "output_type": "stream",
     "text": [
      "Array of Tensor: \n",
      " [[[1 2]\n",
      "  [3 4]]\n",
      "\n",
      " [[5 6]\n",
      "  [7 8]]]\n"
     ]
    }
   ],
   "source": [
    "tensor = np.array([[[1,2],[3,4]],[[5,6],[7,8]]])\n",
    "print(\"Array of Tensor: \\n\", tensor)"
   ]
  },
  {
   "cell_type": "markdown",
   "id": "7ccde2f0",
   "metadata": {},
   "source": [
    "### vector properties"
   ]
  },
  {
   "cell_type": "code",
   "execution_count": 26,
   "id": "2dc7aeff",
   "metadata": {},
   "outputs": [
    {
     "name": "stdout",
     "output_type": "stream",
     "text": [
      "Shape: (2, 3)\n",
      "Dimensions: 2\n",
      "Data Type: int64\n",
      "Size: 6\n",
      "Type: <class 'numpy.ndarray'>\n"
     ]
    }
   ],
   "source": [
    "arr = np.array([[1,2,3],[4,5,6]])\n",
    "\n",
    "print(\"Shape:\", arr.shape)\n",
    "print(\"Dimensions:\", arr.ndim)\n",
    "print(\"Data Type:\", arr.dtype)  \n",
    "print(\"Size:\", arr.size)\n",
    "print(\"Type:\", type(arr))   \n"
   ]
  },
  {
   "cell_type": "markdown",
   "id": "6f642d54",
   "metadata": {},
   "source": [
    "### Array reshaping"
   ]
  },
  {
   "cell_type": "code",
   "execution_count": 34,
   "id": "34c3a4a5",
   "metadata": {},
   "outputs": [
    {
     "name": "stdout",
     "output_type": "stream",
     "text": [
      "Original array: \n",
      " [ 0  1  2  3  4  5  6  7  8  9 10 11]\n",
      "Reshaped array (3x3): \n",
      " [[ 0  1  2  3]\n",
      " [ 4  5  6  7]\n",
      " [ 8  9 10 11]]\n",
      "Flattened array: \n",
      " [ 0  1  2  3  4  5  6  7  8  9 10 11]\n",
      "Raveled array: \n",
      " [ 0  1  2  3  4  5  6  7  8  9 10 11]\n",
      "Transposed array: \n",
      " [[ 0  4  8]\n",
      " [ 1  5  9]\n",
      " [ 2  6 10]\n",
      " [ 3  7 11]]\n"
     ]
    }
   ],
   "source": [
    "arr = np.arange(12)\n",
    "print(\"Original array: \\n\", arr)\n",
    "\n",
    "reshaped = arr.reshape((3,4))\n",
    "print(\"Reshaped array (3x3): \\n\", reshaped)\n",
    "\n",
    "flattened = reshaped.flatten()\n",
    "print(\"Flattened array: \\n\", flattened)\n",
    "\n",
    "raveled = reshaped.ravel()\n",
    "print(\"Raveled array: \\n\", raveled)\n",
    "\n",
    "transposed = reshaped.T\n",
    "print(\"Transposed array: \\n\", transposed)"
   ]
  },
  {
   "cell_type": "code",
   "execution_count": null,
   "id": "a2c196f4",
   "metadata": {},
   "outputs": [],
   "source": []
  }
 ],
 "metadata": {
  "kernelspec": {
   "display_name": "venv",
   "language": "python",
   "name": "python3"
  },
  "language_info": {
   "codemirror_mode": {
    "name": "ipython",
    "version": 3
   },
   "file_extension": ".py",
   "mimetype": "text/x-python",
   "name": "python",
   "nbconvert_exporter": "python",
   "pygments_lexer": "ipython3",
   "version": "3.13.1"
  }
 },
 "nbformat": 4,
 "nbformat_minor": 5
}
